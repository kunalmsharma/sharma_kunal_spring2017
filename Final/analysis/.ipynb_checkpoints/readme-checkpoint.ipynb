{
 "cells": [
  {
   "cell_type": "markdown",
   "metadata": {},
   "source": [
    "# Data Analysis Using Python - Final Project\n",
    "# IMDB 5000 Movie Dataset"
   ]
  },
  {
   "cell_type": "markdown",
   "metadata": {},
   "source": [
    "## The data is of IMDB 5000 Movie Dataset is in the CSV format and the name of the file is movie_metadata.csv which contains all the information regarding the entire aspect of a movie.\n"
   ]
  },
  {
   "cell_type": "markdown",
   "metadata": {},
   "source": [
    "# Analysis Performed"
   ]
  },
  {
   "cell_type": "markdown",
   "metadata": {},
   "source": [
    "# Analysis 1"
   ]
  },
  {
   "cell_type": "markdown",
   "metadata": {},
   "source": [
    " - What kind of movies are liked by the audience, critics and producers and whether or not there is an overlap.\n",
    "    The below performed analysis is used to derive the conclusion.\n",
    " - IMBD top 250 based on Keywords\n",
    " - Top 250 highest grossing movies based on Keywords\n",
    " - Top 250 movies with the highest budget based on Keywords"
   ]
  },
  {
   "cell_type": "markdown",
   "metadata": {},
   "source": [
    "# Inference of Analysis 1"
   ]
  },
  {
   "cell_type": "markdown",
   "metadata": {},
   "source": [
    " * From the analysis we come to the conclusion that Nudity and sex seems to be a good selling point for blockbusters and the producers know it too as it is equally common in big budget movies.\n",
    " * People like to go to watch movies to which they can relate to that is why sex, nudity and relationship are the top 3 keywords in the highest grossing movies and producers and cinema houses seems to know their audience as well."
   ]
  },
  {
   "cell_type": "markdown",
   "metadata": {},
   "source": [
    "# Analysis 2"
   ]
  },
  {
   "cell_type": "markdown",
   "metadata": {},
   "source": [
    " * Based on the data avialable from IMDB Dataset we find out the **Best Director** of all times by using Facebook Like,IMDB Score and Average Revenue"
   ]
  },
  {
   "cell_type": "markdown",
   "metadata": {},
   "source": [
    "# Inference of Analysis 2"
   ]
  },
  {
   "cell_type": "markdown",
   "metadata": {},
   "source": [
    " * Based on the analysis done by comparing all the facebook likes which shows how popular a director is among masses,How much successful he is in terms of revenue generated and imdb score which evolves with time we come to the conclusion that **Christopher Nolan** is the best director."
   ]
  },
  {
   "cell_type": "markdown",
   "metadata": {},
   "source": [
    "# Analysis 3"
   ]
  },
  {
   "cell_type": "markdown",
   "metadata": {},
   "source": [
    "* Doing a Comparative analysis of how successful horror movies are in terms of earnings with reference to other genres by gathered data in IMDB from over a period of many years. "
   ]
  },
  {
   "cell_type": "markdown",
   "metadata": {},
   "source": [
    "# Inference of Analysis 3"
   ]
  },
  {
   "cell_type": "markdown",
   "metadata": {},
   "source": [
    " * Based on the above analysis we come to the conclusion that films made on horror genres is more successful than any      other genres.\n",
    " * Interesting to see that Horror films have more success at the box office compared to all movies in the dataset. \n",
    " * Which implies that horror genre is more bankable as it's probability of being a hit is more."
   ]
  },
  {
   "cell_type": "markdown",
   "metadata": {},
   "source": [
    "# Analysis 4"
   ]
  },
  {
   "cell_type": "markdown",
   "metadata": {},
   "source": [
    " * This analysis takes into consideration the budget and the gross income from the movie and deduces the profit.\n",
    " * Thus we come to the conclusion of Top biggest hit and biggest flop."
   ]
  },
  {
   "cell_type": "markdown",
   "metadata": {},
   "source": [
    "# Inference of Analysis 4"
   ]
  },
  {
   "cell_type": "markdown",
   "metadata": {},
   "source": [
    "  * Based on the above analysis we come to the conclusion that these were the Top Flops and Hits of all time."
   ]
  },
  {
   "cell_type": "markdown",
   "metadata": {},
   "source": [
    "# Analysis 5"
   ]
  },
  {
   "cell_type": "markdown",
   "metadata": {},
   "source": [
    "  * Analysis to find out that whether there is any correlation between **high imdb rated movie** with it's **profit**.\n",
    "  * Which genres got maximum >= 7 ratings\n",
    "  * Which genres are most profitable"
   ]
  },
  {
   "cell_type": "markdown",
   "metadata": {},
   "source": [
    "# Inference of Analysis 5"
   ]
  },
  {
   "cell_type": "markdown",
   "metadata": {},
   "source": [
    " * From the above analysis we can certainly say that genres with more imdb score need not be the most profitable genres    to produce movies in.\n",
    " * As we can see that imdb score is not directly proportional to box office collection."
   ]
  }
 ],
 "metadata": {
  "anaconda-cloud": {},
  "kernelspec": {
   "display_name": "Python [default]",
   "language": "python",
   "name": "python3"
  },
  "language_info": {
   "codemirror_mode": {
    "name": "ipython",
    "version": 3
   },
   "file_extension": ".py",
   "mimetype": "text/x-python",
   "name": "python",
   "nbconvert_exporter": "python",
   "pygments_lexer": "ipython3",
   "version": "3.5.2"
  }
 },
 "nbformat": 4,
 "nbformat_minor": 1
}
