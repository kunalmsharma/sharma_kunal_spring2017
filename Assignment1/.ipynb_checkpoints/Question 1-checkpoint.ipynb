{
 "cells": [
  {
   "cell_type": "markdown",
   "metadata": {},
   "source": [
    "# Question 1\n",
    "- Under package Gutenberg, see what files are in it.\n",
    "- Find out how many words and how many unique words in file 'austen-persuasion.txt'.\n",
    "- Calculate the frequency for each words and show the top 10 most frequent words and their frequency.\u000b",
    "Try NOT to use FreqDist module.\n",
    "- Keep the punctuation and stop words in this question."
   ]
  },
  {
   "cell_type": "code",
   "execution_count": 2,
   "metadata": {
    "collapsed": false
   },
   "outputs": [
    {
     "data": {
      "text/plain": [
       "['austen-emma.txt',\n",
       " 'austen-persuasion.txt',\n",
       " 'austen-sense.txt',\n",
       " 'bible-kjv.txt',\n",
       " 'blake-poems.txt',\n",
       " 'bryant-stories.txt',\n",
       " 'burgess-busterbrown.txt',\n",
       " 'carroll-alice.txt',\n",
       " 'chesterton-ball.txt',\n",
       " 'chesterton-brown.txt',\n",
       " 'chesterton-thursday.txt',\n",
       " 'edgeworth-parents.txt',\n",
       " 'melville-moby_dick.txt',\n",
       " 'milton-paradise.txt',\n",
       " 'shakespeare-caesar.txt',\n",
       " 'shakespeare-hamlet.txt',\n",
       " 'shakespeare-macbeth.txt',\n",
       " 'whitman-leaves.txt']"
      ]
     },
     "execution_count": 2,
     "metadata": {},
     "output_type": "execute_result"
    }
   ],
   "source": [
    "import nltk\n",
    "nltk.corpus.gutenberg.fileids()"
   ]
  },
  {
   "cell_type": "code",
   "execution_count": 3,
   "metadata": {
    "collapsed": false
   },
   "outputs": [
    {
     "data": {
      "text/plain": [
       "98171"
      ]
     },
     "execution_count": 3,
     "metadata": {},
     "output_type": "execute_result"
    }
   ],
   "source": [
    "trial = nltk.corpus.gutenberg.words(\"austen-persuasion.txt\")\n",
    "len(trial)"
   ]
  },
  {
   "cell_type": "code",
   "execution_count": 4,
   "metadata": {
    "collapsed": false
   },
   "outputs": [
    {
     "data": {
      "text/plain": [
       "6132"
      ]
     },
     "execution_count": 4,
     "metadata": {},
     "output_type": "execute_result"
    }
   ],
   "source": [
    "unique_list_of_trials = set(trial)\n",
    "len(unique_list_of_trials)"
   ]
  },
  {
   "cell_type": "code",
   "execution_count": 17,
   "metadata": {
    "collapsed": false
   },
   "outputs": [
    {
     "name": "stdout",
     "output_type": "stream",
     "text": [
      "o 1\n",
      "n 1\n",
      "y 0\n",
      "u 0\n",
      "r 0\n",
      "k 0\n",
      "e 0\n"
     ]
    }
   ],
   "source": [
    "#Top 10 frequent words with punctuation marks.\n",
    "#Get the set of unique words.\n",
    "uniques = []\n",
    "for word in trial:\n",
    "    if word not in uniques:\n",
    "        uniques.append(word)\n",
    "\n",
    "\n",
    "# Make a list of (count, unique) tuples.\n",
    "counts = []\n",
    "for unique in uniques:\n",
    "    count = 0              # Initialize the count to zero.\n",
    "    for word in unique_list_of_trials:     # Iterate over the words.\n",
    "        if word == unique:   # Is this word equal to the current unique?\n",
    "            count += 1         # If so, increment the count\n",
    "    counts.append((count, unique))\n",
    "\n",
    "counts.sort()            # Sorting the list puts the lowest counts first.\n",
    "counts.reverse()         # Reverse it, putting the highest counts first.\n",
    "# Print the ten words with the highest counts.\n",
    "for i in range(min(10, len(counts))):\n",
    "    count, word = counts[i]\n",
    "    print('%s %d' % (word, count))"
   ]
  },
  {
   "cell_type": "code",
   "execution_count": 18,
   "metadata": {
    "collapsed": false
   },
   "outputs": [
    {
     "name": "stdout",
     "output_type": "stream",
     "text": [
      "zealously 1\n",
      "zealous 1\n",
      "zeal 1\n",
      "youthful 1\n",
      "youth 1\n",
      "yourselves 1\n",
      "yourself 1\n",
      "yours 1\n",
      "your 1\n",
      "younker 1\n"
     ]
    }
   ],
   "source": [
    "#Top 10 frequent words without punctuation marks.\n",
    "#Create a list of punctuations.\n",
    "punctuation=[',','.','-',';']\n",
    "\n",
    "# Get the set of unique words.\n",
    "uniques = []\n",
    "for trial in unique_list_of_trials:\n",
    "    if trial not in uniques:\n",
    "        if trial not in punctuation:\n",
    "            uniques.append(trial)\n",
    "\n",
    "# Make a list of (count, unique) tuples.\n",
    "counts = []\n",
    "for unique in uniques:\n",
    "    count = 0              # Initialize the count to zero.\n",
    "    for trial in unique_list_of_trials:     # Iterate over the words.\n",
    "        if trial == unique:   # Is this word equal to the current unique?\n",
    "            count += 1         # If so, increment the count\n",
    "    counts.append((count, unique))\n",
    "\n",
    "counts.sort()            # Sorting the list puts the lowest counts first.\n",
    "counts.reverse()         # Reverse it, putting the highest counts first.\n",
    "# Print the ten words with the highest counts.\n",
    "for i in range(min(10, len(counts))):\n",
    "    count, trial = counts[i]\n",
    "    print('%s %d' % (trial, count))"
   ]
  },
  {
   "cell_type": "code",
   "execution_count": null,
   "metadata": {
    "collapsed": true
   },
   "outputs": [],
   "source": []
  }
 ],
 "metadata": {
  "anaconda-cloud": {},
  "kernelspec": {
   "display_name": "Python [default]",
   "language": "python",
   "name": "python3"
  },
  "language_info": {
   "codemirror_mode": {
    "name": "ipython",
    "version": 3
   },
   "file_extension": ".py",
   "mimetype": "text/x-python",
   "name": "python",
   "nbconvert_exporter": "python",
   "pygments_lexer": "ipython3",
   "version": "3.5.2"
  }
 },
 "nbformat": 4,
 "nbformat_minor": 1
}
