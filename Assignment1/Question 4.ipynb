{
 "cells": [
  {
   "cell_type": "markdown",
   "metadata": {},
   "source": [
    "# Question 4\n",
    "- Under package nps_chat, see what files are in it.\n",
    "- Find 'user121' and see how many posts he posted in all.\n",
    "- Find out how many unique user in each age range group. (20s, 30s,...)(Hint: files' name)"
   ]
  },
  {
   "cell_type": "code",
   "execution_count": 1,
   "metadata": {
    "collapsed": false
   },
   "outputs": [
    {
     "data": {
      "text/plain": [
       "['10-19-20s_706posts.xml',\n",
       " '10-19-30s_705posts.xml',\n",
       " '10-19-40s_686posts.xml',\n",
       " '10-19-adults_706posts.xml',\n",
       " '10-24-40s_706posts.xml',\n",
       " '10-26-teens_706posts.xml',\n",
       " '11-06-adults_706posts.xml',\n",
       " '11-08-20s_705posts.xml',\n",
       " '11-08-40s_706posts.xml',\n",
       " '11-08-adults_705posts.xml',\n",
       " '11-08-teens_706posts.xml',\n",
       " '11-09-20s_706posts.xml',\n",
       " '11-09-40s_706posts.xml',\n",
       " '11-09-adults_706posts.xml',\n",
       " '11-09-teens_706posts.xml']"
      ]
     },
     "execution_count": 1,
     "metadata": {},
     "output_type": "execute_result"
    }
   ],
   "source": [
    "from nltk.corpus import nps_chat\n",
    "nps_chat.fileids()"
   ]
  },
  {
   "cell_type": "code",
   "execution_count": 2,
   "metadata": {
    "collapsed": false
   },
   "outputs": [
    {
     "name": "stdout",
     "output_type": "stream",
     "text": [
      "70\n",
      "0\n",
      "0\n",
      "0\n",
      "0\n",
      "4\n",
      "1\n",
      "28\n",
      "0\n",
      "2\n",
      "3\n",
      "6\n",
      "0\n",
      "0\n",
      "18\n",
      "user121 posted in all 132 times!\n"
     ]
    }
   ],
   "source": [
    "file1 = nps_chat.raw(\"10-19-20s_706posts.xml\")\n",
    "#print(nps_chat.raw(\"10-19-20s_706posts.xml\")[0:500000])\n",
    "user='user=\"10-19-20sUser121\"'\n",
    "count_file1 = file1.count(user)\n",
    "print(count_file1)\n",
    "\n",
    "file2 = nps_chat.raw(\"10-19-30s_705posts.xml\")\n",
    "#print(nps_chat.raw(\"10-19-30s_705posts.xml\")[0:500000])\n",
    "user='user=\"10-19-30sUser121\"'\n",
    "count_file2 = file2.count(user)\n",
    "print(count_file2)\n",
    "\n",
    "file3 = nps_chat.raw(\"10-19-40s_686posts.xml\")\n",
    "#print(nps_chat.raw(\"10-19-40s_686posts.xml\")[0:500000])\n",
    "user='user=\"10-19-40sUser121\"'\n",
    "count_file3 = file3.count(user)\n",
    "print(count_file3)\n",
    "\n",
    "file4 = nps_chat.raw(\"10-19-adults_706posts.xml\")\n",
    "#print(nps_chat.raw(\"10-19-30s_705posts.xml\")[0:500000])\n",
    "user='user=\"10-19-adultsUser121\"'\n",
    "count_file4 = file4.count(user)\n",
    "print(count_file4)\n",
    "\n",
    "file5 = nps_chat.raw(\"10-24-40s_706posts.xml\")\n",
    "#print(nps_chat.raw(\"10-19-30s_705posts.xml\")[0:500000])\n",
    "user='user=\"10-24-40sUser121\"'\n",
    "count_file5 = file5.count(user)\n",
    "print(count_file5)\n",
    "\n",
    "file6 = nps_chat.raw(\"10-26-teens_706posts.xml\")\n",
    "#print(nps_chat.raw(\"10-19-30s_705posts.xml\")[0:500000])\n",
    "user='user=\"10-26-teensUser121\"'\n",
    "count_file6 = file6.count(user)\n",
    "print(count_file6)\n",
    "\n",
    "file7 = nps_chat.raw(\"11-06-adults_706posts.xml\")\n",
    "#print(nps_chat.raw(\"10-19-30s_705posts.xml\")[0:500000])\n",
    "user='user=\"11-06-adultsUser121\"'\n",
    "count_file7 = file7.count(user)\n",
    "print(count_file7)\n",
    "\n",
    "file8 = nps_chat.raw(\"11-08-20s_705posts.xml\")\n",
    "#print(nps_chat.raw(\"10-19-30s_705posts.xml\")[0:500000])\n",
    "user='user=\"11-08-20sUser121\"'\n",
    "count_file8 = file8.count(user)\n",
    "print(count_file8)\n",
    "\n",
    "file9 = nps_chat.raw(\"11-08-40s_706posts.xml\")\n",
    "#print(nps_chat.raw(\"10-19-30s_705posts.xml\")[0:500000])\n",
    "user='user=\"11-08-40sUser121\"'\n",
    "count_file9 = file9.count(user)\n",
    "print(count_file9)\n",
    "\n",
    "file10 = nps_chat.raw(\"11-08-adults_705posts.xml\")\n",
    "#print(nps_chat.raw(\"10-19-30s_705posts.xml\")[0:500000])\n",
    "user='user=\"11-08-adultsUser121\"'\n",
    "count_file10 = file10.count(user)\n",
    "print(count_file10)\n",
    "\n",
    "file11 = nps_chat.raw(\"11-08-teens_706posts.xml\")\n",
    "#print(nps_chat.raw(\"10-19-30s_705posts.xml\")[0:500000])\n",
    "user='user=\"11-08-teensUser121\"'\n",
    "count_file11 = file11.count(user)\n",
    "print(count_file11)\n",
    "\n",
    "file12 = nps_chat.raw(\"11-09-20s_706posts.xml\")\n",
    "#print(nps_chat.raw(\"10-19-30s_705posts.xml\")[0:500000])\n",
    "user='user=\"11-09-20sUser121\"'\n",
    "count_file12 = file12.count(user)\n",
    "print(count_file12)\n",
    "\n",
    "file13 = nps_chat.raw(\"11-09-40s_706posts.xml\")\n",
    "#print(nps_chat.raw(\"10-19-30s_705posts.xml\")[0:500000])\n",
    "user='user=\"11-09-40sUser121\"'\n",
    "count_file13 = file13.count(user)\n",
    "print(count_file13)\n",
    "\n",
    "file14 = nps_chat.raw(\"11-09-adults_706posts.xml\")\n",
    "#print(nps_chat.raw(\"10-19-30s_705posts.xml\")[0:500000])\n",
    "user='user=\"11-09-adultsUser121\"'\n",
    "count_file14 = file14.count(user)\n",
    "print(count_file14)\n",
    "\n",
    "file15 = nps_chat.raw(\"11-09-teens_706posts.xml\")\n",
    "#print(nps_chat.raw(\"10-19-30s_705posts.xml\")[0:500000])\n",
    "user='user=\"11-09-teensUser121\"'\n",
    "count_file15 = file15.count(user)\n",
    "print(count_file15)\n",
    "\n",
    "sum = count_file1 + count_file2 + count_file3 + count_file4 + count_file5 + count_file6 + count_file7 + count_file8 + count_file9 + count_file10 + count_file11 + count_file12 + count_file13 + count_file14 + count_file15\n",
    "print(\"user121 posted in all\",sum,\"times!\")"
   ]
  },
  {
   "cell_type": "code",
   "execution_count": null,
   "metadata": {
    "collapsed": true
   },
   "outputs": [],
   "source": []
  }
 ],
 "metadata": {
  "anaconda-cloud": {},
  "kernelspec": {
   "display_name": "Python [default]",
   "language": "python",
   "name": "python3"
  },
  "language_info": {
   "codemirror_mode": {
    "name": "ipython",
    "version": 3
   },
   "file_extension": ".py",
   "mimetype": "text/x-python",
   "name": "python",
   "nbconvert_exporter": "python",
   "pygments_lexer": "ipython3",
   "version": "3.5.2"
  }
 },
 "nbformat": 4,
 "nbformat_minor": 1
}
