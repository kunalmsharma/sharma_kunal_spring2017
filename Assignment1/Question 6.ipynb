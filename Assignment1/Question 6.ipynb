{
 "cells": [
  {
   "cell_type": "markdown",
   "metadata": {},
   "source": [
    "# Question 6\n",
    "- Under Inaugural Address package\n",
    "- For every president, find out how many unique words they used in speech. \n",
    "- We will just assume that President Bush means one person (technically it is incorrect but we will ignore it)"
   ]
  },
  {
   "cell_type": "code",
   "execution_count": 1,
   "metadata": {
    "collapsed": false
   },
   "outputs": [
    {
     "data": {
      "text/plain": [
       "['1789-Washington.txt',\n",
       " '1793-Washington.txt',\n",
       " '1797-Adams.txt',\n",
       " '1801-Jefferson.txt',\n",
       " '1805-Jefferson.txt',\n",
       " '1809-Madison.txt',\n",
       " '1813-Madison.txt',\n",
       " '1817-Monroe.txt',\n",
       " '1821-Monroe.txt',\n",
       " '1825-Adams.txt',\n",
       " '1829-Jackson.txt',\n",
       " '1833-Jackson.txt',\n",
       " '1837-VanBuren.txt',\n",
       " '1841-Harrison.txt',\n",
       " '1845-Polk.txt',\n",
       " '1849-Taylor.txt',\n",
       " '1853-Pierce.txt',\n",
       " '1857-Buchanan.txt',\n",
       " '1861-Lincoln.txt',\n",
       " '1865-Lincoln.txt',\n",
       " '1869-Grant.txt',\n",
       " '1873-Grant.txt',\n",
       " '1877-Hayes.txt',\n",
       " '1881-Garfield.txt',\n",
       " '1885-Cleveland.txt',\n",
       " '1889-Harrison.txt',\n",
       " '1893-Cleveland.txt',\n",
       " '1897-McKinley.txt',\n",
       " '1901-McKinley.txt',\n",
       " '1905-Roosevelt.txt',\n",
       " '1909-Taft.txt',\n",
       " '1913-Wilson.txt',\n",
       " '1917-Wilson.txt',\n",
       " '1921-Harding.txt',\n",
       " '1925-Coolidge.txt',\n",
       " '1929-Hoover.txt',\n",
       " '1933-Roosevelt.txt',\n",
       " '1937-Roosevelt.txt',\n",
       " '1941-Roosevelt.txt',\n",
       " '1945-Roosevelt.txt',\n",
       " '1949-Truman.txt',\n",
       " '1953-Eisenhower.txt',\n",
       " '1957-Eisenhower.txt',\n",
       " '1961-Kennedy.txt',\n",
       " '1965-Johnson.txt',\n",
       " '1969-Nixon.txt',\n",
       " '1973-Nixon.txt',\n",
       " '1977-Carter.txt',\n",
       " '1981-Reagan.txt',\n",
       " '1985-Reagan.txt',\n",
       " '1989-Bush.txt',\n",
       " '1993-Clinton.txt',\n",
       " '1997-Clinton.txt',\n",
       " '2001-Bush.txt',\n",
       " '2005-Bush.txt',\n",
       " '2009-Obama.txt']"
      ]
     },
     "execution_count": 1,
     "metadata": {},
     "output_type": "execute_result"
    }
   ],
   "source": [
    "from nltk.corpus import inaugural\n",
    "inaugural.fileids()"
   ]
  },
  {
   "cell_type": "code",
   "execution_count": 2,
   "metadata": {
    "collapsed": false
   },
   "outputs": [
    {
     "name": "stdout",
     "output_type": "stream",
     "text": [
      "Speech 1789-Washington.txt has  628 uniques words!\n",
      "Speech 1793-Washington.txt has  96 uniques words!\n",
      "Speech 1797-Adams.txt has  828 uniques words!\n",
      "Speech 1801-Jefferson.txt has  717 uniques words!\n",
      "Speech 1805-Jefferson.txt has  806 uniques words!\n",
      "Speech 1809-Madison.txt has  537 uniques words!\n",
      "Speech 1813-Madison.txt has  542 uniques words!\n",
      "Speech 1817-Monroe.txt has  1041 uniques words!\n",
      "Speech 1821-Monroe.txt has  1265 uniques words!\n",
      "Speech 1825-Adams.txt has  1007 uniques words!\n",
      "Speech 1829-Jackson.txt has  517 uniques words!\n",
      "Speech 1833-Jackson.txt has  502 uniques words!\n",
      "Speech 1837-VanBuren.txt has  1318 uniques words!\n",
      "Speech 1841-Harrison.txt has  1893 uniques words!\n",
      "Speech 1845-Polk.txt has  1333 uniques words!\n",
      "Speech 1849-Taylor.txt has  499 uniques words!\n",
      "Speech 1853-Pierce.txt has  1168 uniques words!\n",
      "Speech 1857-Buchanan.txt has  948 uniques words!\n",
      "Speech 1861-Lincoln.txt has  1078 uniques words!\n",
      "Speech 1865-Lincoln.txt has  363 uniques words!\n",
      "Speech 1869-Grant.txt has  489 uniques words!\n",
      "Speech 1873-Grant.txt has  553 uniques words!\n",
      "Speech 1877-Hayes.txt has  832 uniques words!\n",
      "Speech 1881-Garfield.txt has  1022 uniques words!\n",
      "Speech 1885-Cleveland.txt has  676 uniques words!\n",
      "Speech 1889-Harrison.txt has  1358 uniques words!\n",
      "Speech 1893-Cleveland.txt has  820 uniques words!\n",
      "Speech 1897-McKinley.txt has  1239 uniques words!\n",
      "Speech 1901-McKinley.txt has  860 uniques words!\n",
      "Speech 1905-Roosevelt.txt has  405 uniques words!\n",
      "Speech 1909-Taft.txt has  1439 uniques words!\n",
      "Speech 1913-Wilson.txt has  661 uniques words!\n",
      "Speech 1917-Wilson.txt has  549 uniques words!\n",
      "Speech 1921-Harding.txt has  1170 uniques words!\n",
      "Speech 1925-Coolidge.txt has  1221 uniques words!\n",
      "Speech 1929-Hoover.txt has  1087 uniques words!\n",
      "Speech 1933-Roosevelt.txt has  746 uniques words!\n",
      "Speech 1937-Roosevelt.txt has  732 uniques words!\n",
      "Speech 1941-Roosevelt.txt has  527 uniques words!\n",
      "Speech 1945-Roosevelt.txt has  280 uniques words!\n",
      "Speech 1949-Truman.txt has  781 uniques words!\n",
      "Speech 1953-Eisenhower.txt has  899 uniques words!\n",
      "Speech 1957-Eisenhower.txt has  622 uniques words!\n",
      "Speech 1961-Kennedy.txt has  570 uniques words!\n",
      "Speech 1965-Johnson.txt has  571 uniques words!\n",
      "Speech 1969-Nixon.txt has  743 uniques words!\n",
      "Speech 1973-Nixon.txt has  545 uniques words!\n",
      "Speech 1977-Carter.txt has  529 uniques words!\n",
      "Speech 1981-Reagan.txt has  907 uniques words!\n",
      "Speech 1985-Reagan.txt has  924 uniques words!\n",
      "Speech 1989-Bush.txt has  793 uniques words!\n",
      "Speech 1993-Clinton.txt has  643 uniques words!\n",
      "Speech 1997-Clinton.txt has  774 uniques words!\n",
      "Speech 2001-Bush.txt has  622 uniques words!\n",
      "Speech 2005-Bush.txt has  783 uniques words!\n",
      "Speech 2009-Obama.txt has  938 uniques words!\n"
     ]
    }
   ],
   "source": [
    "for file in inaugural.fileids():\n",
    "    #print(file)\n",
    "    words = inaugural.words(file)\n",
    "    unique=[]\n",
    "    for word in words:\n",
    "        if word not in unique:\n",
    "            unique.append(word)\n",
    "    print(\"Speech\",file,\"has \",len(unique),\"uniques words!\")\n",
    "        "
   ]
  },
  {
   "cell_type": "code",
   "execution_count": null,
   "metadata": {
    "collapsed": true
   },
   "outputs": [],
   "source": []
  }
 ],
 "metadata": {
  "kernelspec": {
   "display_name": "Python [default]",
   "language": "python",
   "name": "python3"
  },
  "language_info": {
   "codemirror_mode": {
    "name": "ipython",
    "version": 3
   },
   "file_extension": ".py",
   "mimetype": "text/x-python",
   "name": "python",
   "nbconvert_exporter": "python",
   "pygments_lexer": "ipython3",
   "version": "3.5.2"
  }
 },
 "nbformat": 4,
 "nbformat_minor": 1
}
