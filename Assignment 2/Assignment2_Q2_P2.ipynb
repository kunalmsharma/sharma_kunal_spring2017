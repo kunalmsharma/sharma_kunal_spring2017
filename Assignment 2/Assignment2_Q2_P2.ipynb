{
 "cells": [
  {
   "cell_type": "markdown",
   "metadata": {},
   "source": []
  },
  {
   "cell_type": "code",
   "execution_count": 8,
   "metadata": {
    "collapsed": false
   },
   "outputs": [],
   "source": [
    "import glob\n",
    "import json\n",
    "files_json = glob.glob(\"Data/*.json\")\n",
    "\n",
    "restaurants=[]\n",
    "for file in files_json:\n",
    "    with open(file) as data_file:    \n",
    "        data = json.load(data_file)\n",
    "        if data['term']==\"restaurants\":\n",
    "            restaurants.append(file)\n",
    "            \n"
   ]
  },
  {
   "cell_type": "code",
   "execution_count": 9,
   "metadata": {
    "collapsed": false
   },
   "outputs": [],
   "source": [
    "import csv\n",
    "with open(\"restaurants.csv\",\"w\",encoding='utf-8') as myfile:\n",
    "    writer = csv.writer(myfile, delimiter=\",\", quotechar=\"|\", quoting=csv.QUOTE_MINIMAL, lineterminator='\\n')\n",
    "    writer.writerow([\"Name of Restaurant\",\"City\",\"Country Code\",\"Day of Week\",\"Start Time Hour\",\"Start Time Minute\",\"End Time Hour\",\"End Time Minute\"])\n",
    "    for file in restaurants:\n",
    "        with open(file) as data_file:    \n",
    "            data = json.load(data_file)\n",
    "            try: \n",
    "                for i in range(0,len(data['hours'][0]['open'])):\n",
    "                    writer.writerow([data['id'],data['location']['city'],data['location']['country'],data['hours'][0]['open'][i]['day'],data['hours'][0]['open'][i]['start'][:2],data['hours'][0]['open'][i]['start'][-2:],data['hours'][0]['open'][i]['end'][:2],data['hours'][0]['open'][i]['end'][-2:]])\n",
    "            except KeyError:\n",
    "                pass\n",
    "        "
   ]
  },
  {
   "cell_type": "code",
   "execution_count": null,
   "metadata": {
    "collapsed": true
   },
   "outputs": [],
   "source": []
  }
 ],
 "metadata": {
  "anaconda-cloud": {},
  "kernelspec": {
   "display_name": "Python [default]",
   "language": "python",
   "name": "python3"
  },
  "language_info": {
   "codemirror_mode": {
    "name": "ipython",
    "version": 3
   },
   "file_extension": ".py",
   "mimetype": "text/x-python",
   "name": "python",
   "nbconvert_exporter": "python",
   "pygments_lexer": "ipython3",
   "version": "3.5.2"
  }
 },
 "nbformat": 4,
 "nbformat_minor": 2
}
