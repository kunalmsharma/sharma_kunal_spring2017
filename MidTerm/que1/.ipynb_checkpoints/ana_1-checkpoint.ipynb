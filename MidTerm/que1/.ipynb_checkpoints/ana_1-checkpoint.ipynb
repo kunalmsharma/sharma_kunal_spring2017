{
 "cells": [
  {
   "cell_type": "markdown",
   "metadata": {},
   "source": [
    "# First Analysis\n",
    "This Analysis consist of top 10 email address(people) and the number of times those emails were send and received by the CEO of Enron Mr. Jeffrey Skilling"
   ]
  },
  {
   "cell_type": "code",
   "execution_count": 1,
   "metadata": {
    "collapsed": false
   },
   "outputs": [],
   "source": [
    "import os\n"
   ]
  },
  {
   "cell_type": "code",
   "execution_count": 2,
   "metadata": {
    "collapsed": false
   },
   "outputs": [],
   "source": [
    "os.getcwd();"
   ]
  },
  {
   "cell_type": "code",
   "execution_count": 3,
   "metadata": {
    "collapsed": false
   },
   "outputs": [
    {
     "name": "stdout",
     "output_type": "stream",
     "text": [
      "C:\\Users\\kmsharma90\\Desktop\\ClassPython\\MidTerm\\que1\n"
     ]
    }
   ],
   "source": [
    "print(os.getcwd())"
   ]
  },
  {
   "cell_type": "code",
   "execution_count": 7,
   "metadata": {
    "collapsed": false
   },
   "outputs": [],
   "source": [
    "os.chdir('C:\\\\Users\\\\kmsharma90\\\\Desktop\\\\ClassPython\\\\MidTerm')"
   ]
  },
  {
   "cell_type": "code",
   "execution_count": 8,
   "metadata": {
    "collapsed": false
   },
   "outputs": [
    {
     "name": "stdout",
     "output_type": "stream",
     "text": [
      "C:\\Users\\kmsharma90\\Desktop\\ClassPython\\MidTerm\n"
     ]
    }
   ],
   "source": [
    "print(os.getcwd())"
   ]
  },
  {
   "cell_type": "code",
   "execution_count": 9,
   "metadata": {
    "collapsed": true
   },
   "outputs": [],
   "source": [
    "from collections import Counter\n",
    "\n",
    "from email.parser import Parser\n",
    "rootdir = \"data\\\\enron\\\\maildir\\\\skilling-j\\\\\""
   ]
  },
  {
   "cell_type": "code",
   "execution_count": 10,
   "metadata": {
    "collapsed": false
   },
   "outputs": [
    {
     "name": "stdout",
     "output_type": "stream",
     "text": [
      "\n",
      "To email adresses: \n",
      "\n",
      "[('jeff.skilling@enron.com', 1738), ('kenneth.lay@enron.com', 286), ('jskilli@enron.com', 234), ('greg.whalley@enron.com', 204), ('mark.frevert@enron.com', 190), ('louise.kitchen@enron.com', 190), ('steven.kean@enron.com', 183), ('john.sherriff@enron.com', 174), ('smu-betas@yahoogroups.com', 167), ('mike.mcconnell@enron.com', 162)]\n",
      "\n",
      "From email adresses: \n",
      "\n",
      "[('sherri.sera@enron.com', 662), ('markskilling@hotmail.com', 156), ('joannie.williamson@enron.com', 147), ('40enron@enron.com', 140), ('jeff.skilling@enron.com', 98), ('fredinvt@juno.com', 91), ('no.address@enron.com', 77), ('sherri.reinartz@enron.com', 57), ('lisa.connolly@enron.com', 55), ('katherine.brown@enron.com', 46)]\n"
     ]
    }
   ],
   "source": [
    "def email_analyse(inputfile, to_email_list, from_email_list, email_body):\n",
    "    with open(inputfile, \"r\") as f:\n",
    "        data = f.read()\n",
    "\n",
    "    email = Parser().parsestr(data)\n",
    "    \n",
    "    if email['to']:\n",
    "        email_to = email['to']\n",
    "        email_to = email_to.replace(\"\\n\", \"\")\n",
    "        email_to = email_to.replace(\"\\t\", \"\")\n",
    "        email_to = email_to.replace(\" \", \"\")\n",
    "\n",
    "        email_to = email_to.split(\",\")\n",
    "\n",
    "        for email_to_1 in email_to:\n",
    "            to_email_list.append(email_to_1)\n",
    "\n",
    "    from_email_list.append(email['from'])\n",
    "\n",
    "    email_body.append(email.get_payload())\n",
    "\n",
    "\n",
    "to_email_list = []\n",
    "from_email_list = []\n",
    "email_body = []\n",
    "\n",
    "for directory, subdirectory, filenames in  os.walk(rootdir):\n",
    "    for filename in filenames:\n",
    "        email_analyse(os.path.join(directory, filename), to_email_list, from_email_list, email_body )\n",
    "\n",
    "print(\"\\nTo email adresses: \\n\")\n",
    "print(Counter(to_email_list).most_common(10))\n",
    "\n",
    "print(\"\\nFrom email adresses: \\n\")\n",
    "print(Counter(from_email_list).most_common(10))\n",
    "\n",
    "\n",
    "with open(\"to_email_list.txt\", \"w\") as f:\n",
    "    for to_email in to_email_list:\n",
    "        if to_email:\n",
    "            f.write(to_email)\n",
    "            f.write(\"\\n\")\n",
    "with open(\"from_email_list.txt\", \"w\") as f:\n",
    "    for from_email in from_email_list:\n",
    "        if from_email:\n",
    "            f.write(from_email)\n",
    "            f.write(\"\\n\")        \n",
    "\n",
    "with open(\"email_body.txt\", \"w\") as f:\n",
    "    for email_bod in email_body:\n",
    "        if email_bod:\n",
    "            f.write(email_bod)\n",
    "            f.write(\"\\n\")    "
   ]
  },
  {
   "cell_type": "code",
   "execution_count": null,
   "metadata": {
    "collapsed": true
   },
   "outputs": [],
   "source": []
  }
 ],
 "metadata": {
  "anaconda-cloud": {},
  "kernelspec": {
   "display_name": "Python [conda root]",
   "language": "python",
   "name": "conda-root-py"
  },
  "language_info": {
   "codemirror_mode": {
    "name": "ipython",
    "version": 3
   },
   "file_extension": ".py",
   "mimetype": "text/x-python",
   "name": "python",
   "nbconvert_exporter": "python",
   "pygments_lexer": "ipython3",
   "version": "3.5.2"
  }
 },
 "nbformat": 4,
 "nbformat_minor": 1
}
