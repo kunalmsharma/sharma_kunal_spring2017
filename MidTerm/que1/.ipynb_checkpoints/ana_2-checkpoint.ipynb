{
 "cells": [
  {
   "cell_type": "markdown",
   "metadata": {},
   "source": [
    "# Second Analysis\n",
    "Bankruptcy is one of the most frequently used word which we came to know based on the analysis of the emails send and received by Kenneth Lay. This proves the fact that Kenneth Lay was aware that the company is not doing well for a long time and it is on the verge of bankruptcy but still it projected in market that the company is in profits which was enough to prove is criminal activity."
   ]
  },
  {
   "cell_type": "code",
   "execution_count": 1,
   "metadata": {
    "collapsed": false
   },
   "outputs": [
    {
     "name": "stdout",
     "output_type": "stream",
     "text": [
      "C:\\Users\\kmsharma90\\Desktop\\ClassPython\\MidTerm\\que1\n"
     ]
    }
   ],
   "source": [
    "import os\n",
    "os.getcwd();\n",
    "print(os.getcwd())"
   ]
  },
  {
   "cell_type": "code",
   "execution_count": 2,
   "metadata": {
    "collapsed": false
   },
   "outputs": [
    {
     "name": "stdout",
     "output_type": "stream",
     "text": [
      "C:\\Users\\kmsharma90\\Desktop\\ClassPython\\MidTerm\n"
     ]
    }
   ],
   "source": [
    "os.chdir('C:\\\\Users\\\\kmsharma90\\\\Desktop\\\\ClassPython\\\\MidTerm')\n",
    "print(os.getcwd())"
   ]
  },
  {
   "cell_type": "code",
   "execution_count": 7,
   "metadata": {
    "collapsed": false
   },
   "outputs": [],
   "source": [
    "from collections import Counter\n",
    "\n",
    "from email.parser import Parser\n",
    "rootdir = \"data\\\\enron\\\\maildir\\\\lay-k\\\\\"\n",
    "\n",
    "def email_analyse(inputfile, to_email_list, from_email_list, email_body):\n",
    "    with open(inputfile, \"r\") as f:\n",
    "        data = f.read()\n",
    "\n",
    "    email = Parser().parsestr(data)\n",
    "    \n",
    "    email_body.append(email.get_payload())\n",
    "\n",
    "\n",
    "to_email_list = []\n",
    "from_email_list = []\n",
    "email_body = []\n",
    "\n",
    "for directory, subdirectory, filenames in  os.walk(rootdir):\n",
    "    for filename in filenames:\n",
    "        email_analyse(os.path.join(directory, filename), to_email_list, from_email_list, email_body )\n",
    "\n",
    "with open(\"lay_k_email_body.txt\", \"w\") as f:\n",
    "    for email_bod in email_body:\n",
    "        if email_bod:\n",
    "            f.write(email_bod)\n",
    "            f.write(\"\\n\")       \n",
    "\n"
   ]
  },
  {
   "cell_type": "code",
   "execution_count": 8,
   "metadata": {
    "collapsed": false
   },
   "outputs": [
    {
     "name": "stdout",
     "output_type": "stream",
     "text": [
      "C:\\Users\\kmsharma90\\Desktop\\ClassPython\\MidTerm\n"
     ]
    }
   ],
   "source": [
    "os.chdir('C:\\\\Users\\\\kmsharma90\\\\Desktop\\\\ClassPython\\\\MidTerm')\n",
    "print(os.getcwd())"
   ]
  },
  {
   "cell_type": "code",
   "execution_count": 9,
   "metadata": {
    "collapsed": false
   },
   "outputs": [
    {
     "name": "stdout",
     "output_type": "stream",
     "text": [
      "[(',', 82443), ('.', 59781), ('--', 27631), ('?', 26239), ('>', 22136), (':', 21640), ('@', 20084), ('Enron', 14536), ('I', 13970), (\"'s\", 10955), (\"''\", 10811), (')', 10030), ('(', 9479), ('<', 7817), ('-', 7340), ('The', 7138), (';', 5981), ('company', 5943), ('``', 5721), ('employees', 5234), ('$', 4969), ('energy', 4437), ('To', 4020), ('made', 3994), ('=20', 3921), ('would', 3843), ('California', 3734), ('Lay', 3468), ('consumers', 3441), ('Ken', 3402), ('http', 3213), ('Please', 3200), ('We', 3051), ('&', 3048), ('million', 2866), ('!', 2678), ('stock', 2670), ('Mr.', 2621), ('pay', 2491), ('...', 2444), ('funds', 2393), ('retirement', 2329), ('bills', 2298), ('bankruptcy', 2297), ('millions', 2294), ('donate', 2260), ('declared', 2250), (\"n't\", 2217), ('year', 2201), ('As', 2199), ('New', 2190), ('ENRON', 2182), ('help', 2154), ('information', 2095), ('know', 2086), ('last', 2060), ('time', 2039), ('*', 2036), ('well', 1998), ('If', 1933), ('us', 1911), ('many', 1899), (\"'\", 1879), ('please', 1869), ('new', 1821), ('provide', 1818), ('This', 1789), ('Subject', 1783), ('2000', 1763), ('like', 1749), ('business', 1706), ('meeting', 1701), ('%', 1678), ('Houston', 1658), ('York', 1558), ('2001', 1544), ('=', 1521), ('keep', 1521), ('ECT', 1519), (\"'m\", 1517), ('also', 1516), ('efforts', 1504), ('And', 1488), ('In', 1475), ('one', 1458), ('enron.com', 1449), ('money', 1426), ('state', 1423), ('set', 1422), ('Sincerely', 1398), ('call', 1385), ('100', 1373), ('October', 1363), ('result', 1362), ('largest', 1354), ('may', 1353), ('plans', 1352), ('Times', 1351), ('A', 1297), ('Communications', 1294)]\n"
     ]
    }
   ],
   "source": [
    "import nltk\n",
    "from nltk.tokenize import word_tokenize\n",
    "from nltk.corpus import stopwords\n",
    "\n",
    "with open(\"lay_k_email_body.txt\", \"r\") as f:\n",
    "    data = f.read()\n",
    "\n",
    "\n",
    "words= word_tokenize(data)\n",
    "\n",
    "useful_words = [word  for word in words if word not in stopwords.words('English')]\n",
    "\n",
    "frequency = nltk.FreqDist(useful_words)\n",
    "\n",
    "print(frequency.most_common(100))"
   ]
  },
  {
   "cell_type": "code",
   "execution_count": null,
   "metadata": {
    "collapsed": true
   },
   "outputs": [],
   "source": []
  }
 ],
 "metadata": {
  "kernelspec": {
   "display_name": "Python [conda root]",
   "language": "python",
   "name": "conda-root-py"
  },
  "language_info": {
   "codemirror_mode": {
    "name": "ipython",
    "version": 3
   },
   "file_extension": ".py",
   "mimetype": "text/x-python",
   "name": "python",
   "nbconvert_exporter": "python",
   "pygments_lexer": "ipython3",
   "version": "3.5.2"
  }
 },
 "nbformat": 4,
 "nbformat_minor": 1
}
