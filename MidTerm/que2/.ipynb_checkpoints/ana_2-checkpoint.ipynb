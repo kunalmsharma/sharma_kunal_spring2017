{
 "cells": [
  {
   "cell_type": "markdown",
   "metadata": {},
   "source": [
    "# Second Analysis\n",
    "This analysis of section_name shows the top 10 sections which were in the month of November"
   ]
  },
  {
   "cell_type": "code",
   "execution_count": 65,
   "metadata": {
    "collapsed": false
   },
   "outputs": [
    {
     "name": "stdout",
     "output_type": "stream",
     "text": [
      "C:\\Users\\kmsharma90\\Desktop\\ClassPython\\MidTerm\\data\\NYT\n"
     ]
    }
   ],
   "source": [
    "from glob import glob\n",
    "import json\n",
    "import os\n",
    "os.getcwd();\n",
    "print(os.getcwd())"
   ]
  },
  {
   "cell_type": "code",
   "execution_count": 69,
   "metadata": {
    "collapsed": true
   },
   "outputs": [],
   "source": [
    "os.chdir('C:\\\\Users\\\\kmsharma90\\\\Desktop\\\\ClassPython\\\\MidTerm\\\\data\\\\NYT\\\\Archive')"
   ]
  },
  {
   "cell_type": "code",
   "execution_count": null,
   "metadata": {
    "collapsed": true
   },
   "outputs": [],
   "source": [
    "print(list_sections_2016_10[doc['section_name']])\n",
    "print(Counter(list_sections_2016_10).most_common(10))"
   ]
  },
  {
   "cell_type": "code",
   "execution_count": 113,
   "metadata": {
    "collapsed": false
   },
   "outputs": [],
   "source": [
    "import json\n",
    "json_str = json.dumps(\"Archive_Nov.json\")\n",
    "data = json.loads(json_str)"
   ]
  },
  {
   "cell_type": "code",
   "execution_count": 135,
   "metadata": {
    "collapsed": false
   },
   "outputs": [
    {
     "name": "stdout",
     "output_type": "stream",
     "text": [
      "<class 'list'>\n",
      "<class 'list'>\n",
      "<class 'list'>\n",
      "<class 'list'>\n",
      "<class 'list'>\n",
      "<class 'list'>\n",
      "<class 'list'>\n",
      "<class 'list'>\n",
      "<class 'list'>\n",
      "<class 'list'>\n",
      "<class 'list'>\n",
      "<class 'list'>\n",
      "<class 'list'>\n",
      "<class 'list'>\n",
      "<class 'list'>\n",
      "<class 'list'>\n"
     ]
    }
   ],
   "source": [
    "from collections import Counter\n",
    "import json\n",
    "list_sections_2016_11={}  \n",
    "for filename in data:\n",
    "    with open(\"Archive_Nov.json\",\"r\") as r:  \n",
    "        json_data = json.load(r)\n",
    "        print(type(json_data['response']['docs']))\n",
    "        \n",
    "        #print(json_data)\n",
    "        json_response=json_data['response']                  \n",
    "        json_docs=json_response['docs']                      \n",
    "        for doc in json_data['response']['docs']:  \n",
    "            if doc['section_name'] not in list_sections_2016_11:  \n",
    "                list_sections_2016_11[doc['section_name']]=1\n",
    "            else:\n",
    "                list_sections_2016_11[doc['section_name']]+=1"
   ]
  },
  {
   "cell_type": "code",
   "execution_count": 126,
   "metadata": {
    "collapsed": false
   },
   "outputs": [
    {
     "data": {
      "text/plain": [
       "'World'"
      ]
     },
     "execution_count": 126,
     "metadata": {},
     "output_type": "execute_result"
    }
   ],
   "source": [
    "json_data['response']['docs'][0]['section_name']"
   ]
  },
  {
   "cell_type": "code",
   "execution_count": 118,
   "metadata": {
    "collapsed": false
   },
   "outputs": [
    {
     "data": {
      "text/plain": [
       "{}"
      ]
     },
     "execution_count": 118,
     "metadata": {},
     "output_type": "execute_result"
    }
   ],
   "source": [
    "list_sections_2016_11"
   ]
  },
  {
   "cell_type": "code",
   "execution_count": 136,
   "metadata": {
    "collapsed": false
   },
   "outputs": [
    {
     "name": "stdout",
     "output_type": "stream",
     "text": [
      "4224\n",
      "[('U.S.', 9984), ('Opinion', 9856), ('World', 8256), ('Arts', 7136), ('Business Day', 6304), ('Sports', 5904), ('N.Y. / Region', 4896), ('Fashion & Style', 4224), ('Books', 2944), ('Movies', 2224)]\n"
     ]
    }
   ],
   "source": [
    "print(list_sections_2016_11[doc['section_name']])\n",
    "print(Counter(list_sections_2016_11).most_common(10))"
   ]
  },
  {
   "cell_type": "code",
   "execution_count": null,
   "metadata": {
    "collapsed": true
   },
   "outputs": [],
   "source": []
  }
 ],
 "metadata": {
  "kernelspec": {
   "display_name": "Python [conda root]",
   "language": "python",
   "name": "conda-root-py"
  },
  "language_info": {
   "codemirror_mode": {
    "name": "ipython",
    "version": 3
   },
   "file_extension": ".py",
   "mimetype": "text/x-python",
   "name": "python",
   "nbconvert_exporter": "python",
   "pygments_lexer": "ipython3",
   "version": "3.5.2"
  }
 },
 "nbformat": 4,
 "nbformat_minor": 1
}
