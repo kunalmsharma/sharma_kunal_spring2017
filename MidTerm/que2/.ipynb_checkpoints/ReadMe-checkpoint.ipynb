{
 "cells": [
  {
   "cell_type": "markdown",
   "metadata": {},
   "source": [
    "# MidTerm Exam - ReadMe file\n",
    "\n",
    "## Question 1\n",
    "\n",
    "    * Analysis of Enron Scandal\n",
    "    "
   ]
  },
  {
   "cell_type": "markdown",
   "metadata": {},
   "source": [
    "* First Analysis\n",
    "    *  This Analysis consist of **top 10 email address** and the number of times those emails were send and received by        the CEO of Enron Mr. Jeffrey Skilling.\n",
    "    *  This shows us that which people was Mr. Jeffrey Skilling was most communicating with on his official email.\n",
    "    *  In order to achieve this objective I have save all the emails in two text files, one being send and another            being To.\n",
    "    *  After this I have used **Counter** to find out the top 10 among all of these.\n",
    "\n",
    "The output is located at: \\\\Output\\\\Question1_Analysis1\n",
    "    "
   ]
  },
  {
   "cell_type": "markdown",
   "metadata": {},
   "source": [
    "* Second Analysis\n",
    "    *  **Bankruptcy** is one of the most frequently used word which we came to know based on the analysis of the emails        send and received by Kenneth Lay. \n",
    "    *  This proves the fact that Kenneth Lay was **aware** that the company is not doing well for a long time and it is        on the verge of bankruptcy but still it projected in market that the company is in profits which was enough to        prove is criminal activity.\n",
    "  \n",
    "The output is located at : \\\\Output\\\\Question1_Analysis2"
   ]
  },
  {
   "cell_type": "markdown",
   "metadata": {},
   "source": [
    "* Third Analysis\n",
    "    *  Based on the most frequently used words in CEO Kenneth Jay's email body we come to a conclusion that California        is the most important state in USA for Enron's business and other activities.\n",
    "    *  The number of time California is repeated in the email body of CEO Kenneth Jay is 3734.\n",
    "\n",
    "The output is located at : \\\\Output\\\\Question1_Analysis3"
   ]
  },
  {
   "cell_type": "markdown",
   "metadata": {},
   "source": [
    "## Question 2\n",
    "    * Analysis of NYT data\n",
    "    "
   ]
  },
  {
   "cell_type": "markdown",
   "metadata": {},
   "source": [
    "* First Analysis\n",
    "    *  This analysis shows the number of times **Trump** appeared in the main section of the headlines in the month of        November\n",
    "    *  This was achieved through going through the **headline & main headlines** and finding whether Trump appears in          the data and than putting count to find how many times it appeared.\n",
    "    *  The data for the same was scraped through NYTimes api and the api used for the same was **Archieve API**\n",
    "    \n",
    "The output is located at : \\\\Output\\\\Question2_Analysis1"
   ]
  },
  {
   "cell_type": "markdown",
   "metadata": {},
   "source": [
    "* Second Analysis\n",
    "    *  This analysis of **section_name** shows the **top 10** sections which were in the month of **November**\n",
    "    *  This shows the most popular section in the month of November\n",
    "    *  The data for the same was scraped through NYTimes api and the api used for the same was **Archieve API**\n",
    "    \n",
    "The output is located at : \\\\Output\\\\Question2_Analysis2"
   ]
  },
  {
   "cell_type": "markdown",
   "metadata": {},
   "source": [
    "*  Third Analysis\n",
    "    *  **Top 10 topics** which were very relevent and associated with President **Barack Obama** based on the keywords        in the json file\n",
    "    *  The data for the same was scraped through NYTimes api and the api used for the same was **Article Search API**\n",
    "    \n",
    "The output is located at : \\\\Output\\\\Question2_Analysis3"
   ]
  }
 ],
 "metadata": {
  "anaconda-cloud": {},
  "kernelspec": {
   "display_name": "Python [conda root]",
   "language": "python",
   "name": "conda-root-py"
  },
  "language_info": {
   "codemirror_mode": {
    "name": "ipython",
    "version": 3
   },
   "file_extension": ".py",
   "mimetype": "text/x-python",
   "name": "python",
   "nbconvert_exporter": "python",
   "pygments_lexer": "ipython3",
   "version": "3.5.2"
  }
 },
 "nbformat": 4,
 "nbformat_minor": 1
}
